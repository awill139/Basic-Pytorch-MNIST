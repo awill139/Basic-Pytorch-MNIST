{
  "nbformat": 4,
  "nbformat_minor": 0,
  "metadata": {
    "colab": {
      "name": "Base Pytorch MNIST.ipynb",
      "provenance": []
    },
    "kernelspec": {
      "name": "python3",
      "display_name": "Python 3"
    },
    "accelerator": "GPU"
  },
  "cells": [
    {
      "cell_type": "code",
      "metadata": {
        "id": "bGU6NwlsXFSt"
      },
      "source": [
        "import torch\n",
        "import torch.nn as nn\n",
        "from torchvision import datasets\n",
        "import torchvision.transforms as transforms\n",
        "from torch.autograd import Variable"
      ],
      "execution_count": 1,
      "outputs": []
    },
    {
      "cell_type": "code",
      "metadata": {
        "id": "_bNfVLRUYqZA"
      },
      "source": [
        "input_size = 784\n",
        "hidden_size = 500\n",
        "num_classes = 10\n",
        "num_epochs = 20\n",
        "batch_size = 100\n",
        "device = torch.device(\"cuda\" if torch.cuda.is_available() else \"cpu\")"
      ],
      "execution_count": 2,
      "outputs": []
    },
    {
      "cell_type": "code",
      "metadata": {
        "id": "lCsBCXMwbpH5"
      },
      "source": [
        "train_data = datasets.MNIST(root = './data', train = True,\n",
        "                        transform = transforms.ToTensor(), download = True)\n",
        "\n",
        "test_data = datasets.MNIST(root = './data', train = False,\n",
        "                       transform = transforms.ToTensor())"
      ],
      "execution_count": 3,
      "outputs": []
    },
    {
      "cell_type": "code",
      "metadata": {
        "id": "rfDPBdnYgfGp"
      },
      "source": [
        "train_gen = torch.utils.data.DataLoader(dataset = train_data,\n",
        "                                             batch_size = batch_size,\n",
        "                                             shuffle = True)\n",
        "\n",
        "test_gen = torch.utils.data.DataLoader(dataset = test_data,\n",
        "                                      batch_size = batch_size, \n",
        "                                      shuffle = False)"
      ],
      "execution_count": 4,
      "outputs": []
    },
    {
      "cell_type": "code",
      "metadata": {
        "id": "fL-YXTvghaz_"
      },
      "source": [
        "class Model(nn.Module):\n",
        "  def __init__(self, input_size, hidden_size, num_classes):\n",
        "    super(Model,self).__init__()\n",
        "    self.fc1 = nn.Linear(input_size, hidden_size)\n",
        "    self.relu = nn.ReLU()\n",
        "    self.fc2 = nn.Linear(hidden_size, num_classes)\n",
        "  \n",
        "  def forward(self,x):\n",
        "    out = self.fc1(x)\n",
        "    out = self.relu(out)\n",
        "    out = self.fc2(out)\n",
        "    return out"
      ],
      "execution_count": 5,
      "outputs": []
    },
    {
      "cell_type": "code",
      "metadata": {
        "id": "-3EPEqbjjfAT",
        "colab": {
          "base_uri": "https://localhost:8080/"
        },
        "outputId": "f7367636-a27d-4e7a-aa06-ede3bb9bdc43"
      },
      "source": [
        "model = Model(input_size, hidden_size, num_classes)\n",
        "model = model.to(device)"
      ],
      "execution_count": 6,
      "outputs": [
        {
          "output_type": "execute_result",
          "data": {
            "text/plain": [
              "Model(\n",
              "  (fc1): Linear(in_features=784, out_features=500, bias=True)\n",
              "  (relu): ReLU()\n",
              "  (fc2): Linear(in_features=500, out_features=10, bias=True)\n",
              ")"
            ]
          },
          "metadata": {
            "tags": []
          },
          "execution_count": 6
        }
      ]
    },
    {
      "cell_type": "code",
      "metadata": {
        "id": "ePLIwvAFj2zH"
      },
      "source": [
        "loss_function = nn.CrossEntropyLoss()\n",
        "optimizer = torch.optim.Adam(model.parameters(), lr=1e-3)"
      ],
      "execution_count": 7,
      "outputs": []
    },
    {
      "cell_type": "code",
      "metadata": {
        "id": "u75Xa5VckuTH",
        "colab": {
          "base_uri": "https://localhost:8080/"
        },
        "outputId": "bca8900e-077b-4fdb-eff4-14456e728fbb"
      },
      "source": [
        "for epoch in range(num_epochs):\n",
        "  for i, (images,labels) in enumerate(train_gen):\n",
        "    images = Variable(images.view(-1,28*28)).to(device)\n",
        "    labels = Variable(labels).to(device)\n",
        "    \n",
        "    optimizer.zero_grad()\n",
        "    outputs = model(images)\n",
        "    loss = loss_function(outputs, labels)\n",
        "    loss.backward()\n",
        "    optimizer.step()\n",
        "    \n",
        "    if (i+1) % 100 == 0:\n",
        "      print('Epoch [%d/%d], Step [%d/%d], Loss: %.4f'\n",
        "                 %(epoch+1, num_epochs, i+1, len(train_data)//batch_size, loss.item()))"
      ],
      "execution_count": 9,
      "outputs": [
        {
          "output_type": "stream",
          "text": [
            "Epoch [1/20], Step [100/600], Loss: 0.3332\n",
            "Epoch [1/20], Step [200/600], Loss: 0.2775\n",
            "Epoch [1/20], Step [300/600], Loss: 0.3627\n",
            "Epoch [1/20], Step [400/600], Loss: 0.2988\n",
            "Epoch [1/20], Step [500/600], Loss: 0.1285\n",
            "Epoch [1/20], Step [600/600], Loss: 0.1771\n",
            "Epoch [2/20], Step [100/600], Loss: 0.1421\n",
            "Epoch [2/20], Step [200/600], Loss: 0.1235\n",
            "Epoch [2/20], Step [300/600], Loss: 0.1509\n",
            "Epoch [2/20], Step [400/600], Loss: 0.1463\n",
            "Epoch [2/20], Step [500/600], Loss: 0.1049\n",
            "Epoch [2/20], Step [600/600], Loss: 0.0894\n",
            "Epoch [3/20], Step [100/600], Loss: 0.0361\n",
            "Epoch [3/20], Step [200/600], Loss: 0.0462\n",
            "Epoch [3/20], Step [300/600], Loss: 0.0234\n",
            "Epoch [3/20], Step [400/600], Loss: 0.1354\n",
            "Epoch [3/20], Step [500/600], Loss: 0.0472\n",
            "Epoch [3/20], Step [600/600], Loss: 0.1115\n",
            "Epoch [4/20], Step [100/600], Loss: 0.0234\n",
            "Epoch [4/20], Step [200/600], Loss: 0.0244\n",
            "Epoch [4/20], Step [300/600], Loss: 0.0321\n",
            "Epoch [4/20], Step [400/600], Loss: 0.0458\n",
            "Epoch [4/20], Step [500/600], Loss: 0.0436\n",
            "Epoch [4/20], Step [600/600], Loss: 0.1144\n",
            "Epoch [5/20], Step [100/600], Loss: 0.0074\n",
            "Epoch [5/20], Step [200/600], Loss: 0.0181\n",
            "Epoch [5/20], Step [300/600], Loss: 0.0109\n",
            "Epoch [5/20], Step [400/600], Loss: 0.1013\n",
            "Epoch [5/20], Step [500/600], Loss: 0.0075\n",
            "Epoch [5/20], Step [600/600], Loss: 0.0071\n",
            "Epoch [6/20], Step [100/600], Loss: 0.0373\n",
            "Epoch [6/20], Step [200/600], Loss: 0.0538\n",
            "Epoch [6/20], Step [300/600], Loss: 0.0118\n",
            "Epoch [6/20], Step [400/600], Loss: 0.0630\n",
            "Epoch [6/20], Step [500/600], Loss: 0.0296\n",
            "Epoch [6/20], Step [600/600], Loss: 0.0627\n",
            "Epoch [7/20], Step [100/600], Loss: 0.0723\n",
            "Epoch [7/20], Step [200/600], Loss: 0.0065\n",
            "Epoch [7/20], Step [300/600], Loss: 0.0356\n",
            "Epoch [7/20], Step [400/600], Loss: 0.0416\n",
            "Epoch [7/20], Step [500/600], Loss: 0.0223\n",
            "Epoch [7/20], Step [600/600], Loss: 0.0383\n",
            "Epoch [8/20], Step [100/600], Loss: 0.0053\n",
            "Epoch [8/20], Step [200/600], Loss: 0.0325\n",
            "Epoch [8/20], Step [300/600], Loss: 0.0310\n",
            "Epoch [8/20], Step [400/600], Loss: 0.0149\n",
            "Epoch [8/20], Step [500/600], Loss: 0.0236\n",
            "Epoch [8/20], Step [600/600], Loss: 0.0111\n",
            "Epoch [9/20], Step [100/600], Loss: 0.0139\n",
            "Epoch [9/20], Step [200/600], Loss: 0.0059\n",
            "Epoch [9/20], Step [300/600], Loss: 0.0116\n",
            "Epoch [9/20], Step [400/600], Loss: 0.0066\n",
            "Epoch [9/20], Step [500/600], Loss: 0.0324\n",
            "Epoch [9/20], Step [600/600], Loss: 0.0152\n",
            "Epoch [10/20], Step [100/600], Loss: 0.0076\n",
            "Epoch [10/20], Step [200/600], Loss: 0.0078\n",
            "Epoch [10/20], Step [300/600], Loss: 0.0079\n",
            "Epoch [10/20], Step [400/600], Loss: 0.0172\n",
            "Epoch [10/20], Step [500/600], Loss: 0.0220\n",
            "Epoch [10/20], Step [600/600], Loss: 0.0033\n",
            "Epoch [11/20], Step [100/600], Loss: 0.0022\n",
            "Epoch [11/20], Step [200/600], Loss: 0.0168\n",
            "Epoch [11/20], Step [300/600], Loss: 0.0031\n",
            "Epoch [11/20], Step [400/600], Loss: 0.0062\n",
            "Epoch [11/20], Step [500/600], Loss: 0.0052\n",
            "Epoch [11/20], Step [600/600], Loss: 0.0106\n",
            "Epoch [12/20], Step [100/600], Loss: 0.0104\n",
            "Epoch [12/20], Step [200/600], Loss: 0.0045\n",
            "Epoch [12/20], Step [300/600], Loss: 0.0150\n",
            "Epoch [12/20], Step [400/600], Loss: 0.0020\n",
            "Epoch [12/20], Step [500/600], Loss: 0.0561\n",
            "Epoch [12/20], Step [600/600], Loss: 0.0476\n",
            "Epoch [13/20], Step [100/600], Loss: 0.0023\n",
            "Epoch [13/20], Step [200/600], Loss: 0.0042\n",
            "Epoch [13/20], Step [300/600], Loss: 0.0011\n",
            "Epoch [13/20], Step [400/600], Loss: 0.0028\n",
            "Epoch [13/20], Step [500/600], Loss: 0.0034\n",
            "Epoch [13/20], Step [600/600], Loss: 0.0045\n",
            "Epoch [14/20], Step [100/600], Loss: 0.0012\n",
            "Epoch [14/20], Step [200/600], Loss: 0.0011\n",
            "Epoch [14/20], Step [300/600], Loss: 0.0032\n",
            "Epoch [14/20], Step [400/600], Loss: 0.0093\n",
            "Epoch [14/20], Step [500/600], Loss: 0.0039\n",
            "Epoch [14/20], Step [600/600], Loss: 0.0104\n",
            "Epoch [15/20], Step [100/600], Loss: 0.0027\n",
            "Epoch [15/20], Step [200/600], Loss: 0.0060\n",
            "Epoch [15/20], Step [300/600], Loss: 0.0007\n",
            "Epoch [15/20], Step [400/600], Loss: 0.0250\n",
            "Epoch [15/20], Step [500/600], Loss: 0.0189\n",
            "Epoch [15/20], Step [600/600], Loss: 0.0100\n",
            "Epoch [16/20], Step [100/600], Loss: 0.0159\n",
            "Epoch [16/20], Step [200/600], Loss: 0.0017\n",
            "Epoch [16/20], Step [300/600], Loss: 0.0009\n",
            "Epoch [16/20], Step [400/600], Loss: 0.0026\n",
            "Epoch [16/20], Step [500/600], Loss: 0.0063\n",
            "Epoch [16/20], Step [600/600], Loss: 0.0023\n",
            "Epoch [17/20], Step [100/600], Loss: 0.0004\n",
            "Epoch [17/20], Step [200/600], Loss: 0.0031\n",
            "Epoch [17/20], Step [300/600], Loss: 0.0010\n",
            "Epoch [17/20], Step [400/600], Loss: 0.0124\n",
            "Epoch [17/20], Step [500/600], Loss: 0.0013\n",
            "Epoch [17/20], Step [600/600], Loss: 0.0125\n",
            "Epoch [18/20], Step [100/600], Loss: 0.0014\n",
            "Epoch [18/20], Step [200/600], Loss: 0.0009\n",
            "Epoch [18/20], Step [300/600], Loss: 0.0006\n",
            "Epoch [18/20], Step [400/600], Loss: 0.0035\n",
            "Epoch [18/20], Step [500/600], Loss: 0.0037\n",
            "Epoch [18/20], Step [600/600], Loss: 0.0006\n",
            "Epoch [19/20], Step [100/600], Loss: 0.0010\n",
            "Epoch [19/20], Step [200/600], Loss: 0.0020\n",
            "Epoch [19/20], Step [300/600], Loss: 0.0001\n",
            "Epoch [19/20], Step [400/600], Loss: 0.0007\n",
            "Epoch [19/20], Step [500/600], Loss: 0.0007\n",
            "Epoch [19/20], Step [600/600], Loss: 0.0058\n",
            "Epoch [20/20], Step [100/600], Loss: 0.0025\n",
            "Epoch [20/20], Step [200/600], Loss: 0.0003\n",
            "Epoch [20/20], Step [300/600], Loss: 0.0054\n",
            "Epoch [20/20], Step [400/600], Loss: 0.0004\n",
            "Epoch [20/20], Step [500/600], Loss: 0.0056\n",
            "Epoch [20/20], Step [600/600], Loss: 0.0005\n"
          ],
          "name": "stdout"
        }
      ]
    },
    {
      "cell_type": "code",
      "metadata": {
        "id": "DTPvMW5jHB9X",
        "colab": {
          "base_uri": "https://localhost:8080/"
        },
        "outputId": "534d183b-eb95-47a4-f07a-236e324e8ebf"
      },
      "source": [
        "correct = 0\n",
        "total = 0\n",
        "for images,labels in test_gen:\n",
        "  images = Variable(images.view(-1,28*28)).to(device)\n",
        "  labels = labels.to(device)\n",
        "  \n",
        "  output = model(images)\n",
        "  _, predicted = torch.max(output,1)\n",
        "  correct += (predicted == labels).sum()\n",
        "  total += labels.size(0)\n",
        "\n",
        "print('Accuracy of the model: %.3f %%' %((100*correct)/(total+1)))"
      ],
      "execution_count": 10,
      "outputs": [
        {
          "output_type": "stream",
          "text": [
            "Accuracy of the model: 98.140 %\n"
          ],
          "name": "stdout"
        }
      ]
    },
    {
      "cell_type": "code",
      "metadata": {
        "id": "mwb1yUAGwp_9"
      },
      "source": [
        ""
      ],
      "execution_count": null,
      "outputs": []
    }
  ]
}